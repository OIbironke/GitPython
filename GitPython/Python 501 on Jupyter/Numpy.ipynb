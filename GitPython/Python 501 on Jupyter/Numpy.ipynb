{
 "cells": [
  {
   "cell_type": "code",
   "execution_count": 50,
   "id": "81e85699-67fa-4023-939c-a041287811b5",
   "metadata": {},
   "outputs": [],
   "source": [
    "import numpy as np   "
   ]
  },
  {
   "cell_type": "markdown",
   "id": "d16893e1-7daf-41ec-8c88-8ad0b11d027f",
   "metadata": {},
   "source": [
    "## Creating Arrays in Numpy\n",
    "# Creating an Array from a List"
   ]
  },
  {
   "cell_type": "code",
   "execution_count": 51,
   "id": "e1193f64-66c1-4aef-a84b-e41c033469ef",
   "metadata": {},
   "outputs": [],
   "source": [
    "list1 = [10, 20,30]"
   ]
  },
  {
   "cell_type": "code",
   "execution_count": 52,
   "id": "7bc8baee-2d93-40e6-98ea-0c8e7fba6f84",
   "metadata": {},
   "outputs": [
    {
     "data": {
      "text/plain": [
       "array([10, 20, 30])"
      ]
     },
     "execution_count": 52,
     "metadata": {},
     "output_type": "execute_result"
    }
   ],
   "source": [
    "arr1 = np.array(list1)\n",
    "arr1"
   ]
  },
  {
   "cell_type": "markdown",
   "id": "20961fde-3bcd-45ff-b597-c734e17d6599",
   "metadata": {},
   "source": [
    "# Using array to create an array\n",
    "The difference between array and arrange is that array takes in a list and turns it into an array. Whereas arrange creates an array from a range of numbers."
   ]
  },
  {
   "cell_type": "code",
   "execution_count": 53,
   "id": "eafbba87-3921-4a5c-a4ba-67cea4c99853",
   "metadata": {},
   "outputs": [
    {
     "data": {
      "text/plain": [
       "array([10, 11, 12, 13, 14, 15, 16, 17, 18, 19])"
      ]
     },
     "execution_count": 53,
     "metadata": {},
     "output_type": "execute_result"
    }
   ],
   "source": [
    "arr2 = np.arange(10,20,1) #(start, Stop, Increment)\n",
    "arr2\n"
   ]
  },
  {
   "cell_type": "markdown",
   "id": "5eea954c-e0dd-48b0-aebf-43bc0d447463",
   "metadata": {},
   "source": [
    "## Multidimensional arrays\n",
    "\n",
    "### Combining two lists (2-D arrays)\n",
    "\n",
    "When we combine arrays together, we can add dimensions. Comnbining two arrays gives us a 2-D array!\n",
    "This creates a matrix for us on which we can perform matrix operations."
   ]
  },
  {
   "cell_type": "code",
   "execution_count": 54,
   "id": "01e59529-145e-4f90-aa64-8b74307389c4",
   "metadata": {},
   "outputs": [
    {
     "data": {
      "text/plain": [
       "array([[10, 20, 30, 40, 50, 60]])"
      ]
     },
     "execution_count": 54,
     "metadata": {},
     "output_type": "execute_result"
    }
   ],
   "source": [
    "# lets create a new list to join the first list\n",
    "list2 = [40,50,60]\n",
    "\n",
    "# join the lists\n",
    "list3 = [list1 + list2]\n",
    "\n",
    "# create an array out of the joined list\n",
    "arr3 = np.array(list3)\n",
    "arr3"
   ]
  },
  {
   "cell_type": "code",
   "execution_count": 55,
   "id": "c60f2382-6e16-4149-b7de-bb19551fbde0",
   "metadata": {},
   "outputs": [
    {
     "data": {
      "text/plain": [
       "(1, 6)"
      ]
     },
     "execution_count": 55,
     "metadata": {},
     "output_type": "execute_result"
    }
   ],
   "source": [
    "arr3.shape"
   ]
  },
  {
   "cell_type": "markdown",
   "id": "e7a6349f-1c1b-4404-995a-a76c280a757d",
   "metadata": {},
   "source": [
    "## 3-D arrays"
   ]
  },
  {
   "cell_type": "code",
   "execution_count": 56,
   "id": "6e4f44c6-7a3d-48d0-9f69-85332372cdae",
   "metadata": {},
   "outputs": [
    {
     "data": {
      "text/plain": [
       "array([[[1, 2, 3],\n",
       "        [3, 4, 5]],\n",
       "\n",
       "       [[5, 6, 7],\n",
       "        [7, 8, 9]]])"
      ]
     },
     "execution_count": 56,
     "metadata": {},
     "output_type": "execute_result"
    }
   ],
   "source": [
    "arr3dim = np.array([[[1,2,3],[3,4,5]],[[5,6,7],[7,8,9]]])\n",
    "arr3dim"
   ]
  },
  {
   "cell_type": "code",
   "execution_count": 57,
   "id": "b5286c8a-aead-4935-ab66-782c8a1c4e3d",
   "metadata": {},
   "outputs": [
    {
     "data": {
      "text/plain": [
       "(2, 2, 3)"
      ]
     },
     "execution_count": 57,
     "metadata": {},
     "output_type": "execute_result"
    }
   ],
   "source": [
    "arr3dim.shape"
   ]
  },
  {
   "cell_type": "markdown",
   "id": "58d58333-23d9-4b69-b8df-fcf136045963",
   "metadata": {},
   "source": [
    "## Using Arrays and Scalars\n",
    "\n",
    "Numpy arrays (ndarray) allows us to operform maxtrix operations."
   ]
  },
  {
   "cell_type": "code",
   "execution_count": 58,
   "id": "172d1357-038c-480c-8289-d961803dc02b",
   "metadata": {},
   "outputs": [
    {
     "data": {
      "text/plain": [
       "array([[[ 3,  6,  9],\n",
       "        [ 9, 12, 15]],\n",
       "\n",
       "       [[15, 18, 21],\n",
       "        [21, 24, 27]]])"
      ]
     },
     "execution_count": 58,
     "metadata": {},
     "output_type": "execute_result"
    }
   ],
   "source": [
    "# For example, we can use simple multiplication\n",
    "arr3dim * 3"
   ]
  },
  {
   "cell_type": "code",
   "execution_count": 59,
   "id": "2e1e88c6-599c-47a7-9646-ffc48b7ea828",
   "metadata": {},
   "outputs": [
    {
     "data": {
      "text/plain": [
       "[10, 20, 30, 10, 20, 30, 10, 20, 30]"
      ]
     },
     "execution_count": 59,
     "metadata": {},
     "output_type": "execute_result"
    }
   ],
   "source": [
    "# How is this different than trying to do:\n",
    "list1 * 3\n",
    "# lists and arrays are treated differently as seen below:"
   ]
  },
  {
   "cell_type": "code",
   "execution_count": 60,
   "id": "22c7e70c-e173-4c13-abe3-1c85de26e1e0",
   "metadata": {},
   "outputs": [
    {
     "data": {
      "text/plain": [
       "array([ 400, 1000, 1800])"
      ]
     },
     "execution_count": 60,
     "metadata": {},
     "output_type": "execute_result"
    }
   ],
   "source": [
    "# We can actually multiply an array with another arroay\n",
    "\n",
    "# Create a new array with the same size as arr1\n",
    "arr11 = np.array(list2)\n",
    "# Multiply the arrays:\n",
    "arr1 * arr11"
   ]
  },
  {
   "cell_type": "markdown",
   "id": "9b91ab85-0798-414e-a4e4-a1bf151ad690",
   "metadata": {},
   "source": [
    "## Can we multiply arrays of different shapes?"
   ]
  },
  {
   "cell_type": "raw",
   "id": "4656d011-cccb-4fe7-bbf6-023358144440",
   "metadata": {},
   "source": [
    "arr1 * arr2"
   ]
  },
  {
   "cell_type": "markdown",
   "id": "ee4ed9af-0bcd-4cfc-b3c3-c53f14d8d009",
   "metadata": {},
   "source": [
    "The answer is NO"
   ]
  },
  {
   "cell_type": "markdown",
   "id": "13deadab-2745-423b-a70a-7a2413de123c",
   "metadata": {},
   "source": [
    "# Is it possible to multiply arrays of different dimensions? \n",
    "## Yes but they need to have the same size in one dimension"
   ]
  },
  {
   "cell_type": "code",
   "execution_count": 46,
   "id": "afd08dba-9570-4bef-9ca6-679fa5d0ffde",
   "metadata": {},
   "outputs": [
    {
     "data": {
      "text/plain": [
       "array([[[ 10,  40,  90],\n",
       "        [ 30,  80, 150]],\n",
       "\n",
       "       [[ 50, 120, 210],\n",
       "        [ 70, 160, 270]]])"
      ]
     },
     "execution_count": 46,
     "metadata": {},
     "output_type": "execute_result"
    }
   ],
   "source": [
    "arr1 * arr3dim"
   ]
  },
  {
   "cell_type": "markdown",
   "id": "fa2da4ca-79bc-4caa-912a-7df0a6ee151d",
   "metadata": {},
   "source": [
    "# Task\n",
    "## 10 minutes. Create ndarrays of the following sizes:\n",
    "## One dimensional array with 12 elements (12,)\n",
    "## Two dimensional array size (3, 4)\n",
    "## Three dimensional array size (2, 5, 4)\n",
    "## Check the size of your ndarray to ensure it is correct"
   ]
  },
  {
   "cell_type": "code",
   "execution_count": 61,
   "id": "3d40b10f-700a-4f16-8dc5-54ef00b3459e",
   "metadata": {},
   "outputs": [
    {
     "ename": "TypeError",
     "evalue": "'builtin_function_or_method' object is not subscriptable",
     "output_type": "error",
     "traceback": [
      "\u001b[1;31m---------------------------------------------------------------------------\u001b[0m",
      "\u001b[1;31mTypeError\u001b[0m                                 Traceback (most recent call last)",
      "Cell \u001b[1;32mIn[61], line 1\u001b[0m\n\u001b[1;32m----> 1\u001b[0m onebytwelve \u001b[38;5;241m=\u001b[39m \u001b[43mnp\u001b[49m\u001b[38;5;241;43m.\u001b[39;49m\u001b[43marray\u001b[49m\u001b[43m[\u001b[49m\u001b[38;5;241;43m122\u001b[39;49m\u001b[43m,\u001b[49m\u001b[38;5;241;43m144\u001b[39;49m\u001b[43m,\u001b[49m\u001b[38;5;241;43m1\u001b[39;49m\u001b[43m]\u001b[49m\n\u001b[0;32m      2\u001b[0m threebyfour \u001b[38;5;241m=\u001b[39m np\u001b[38;5;241m.\u001b[39marray[\u001b[38;5;241m5\u001b[39m,\u001b[38;5;241m18\u001b[39m,\u001b[38;5;241m22\u001b[39m,\u001b[38;5;241m1\u001b[39m],[\u001b[38;5;241m7\u001b[39m,\u001b[38;5;241m4\u001b[39m,\u001b[38;5;241m9\u001b[39m,\u001b[38;5;241m35\u001b[39m],[\u001b[38;5;241m12\u001b[39m,\u001b[38;5;241m13\u001b[39m,\u001b[38;5;241m14\u001b[39m,\u001b[38;5;241m15\u001b[39m],[\u001b[38;5;241m0\u001b[39m,\u001b[38;5;241m88\u001b[39m,\u001b[38;5;241m64\u001b[39m,\u001b[38;5;241m3\u001b[39m]\n\u001b[0;32m      3\u001b[0m twobyfivebyfour \u001b[38;5;241m=\u001b[39m np\u001b[38;5;241m.\u001b[39marray[[[\u001b[38;5;241m1\u001b[39m,\u001b[38;5;241m2\u001b[39m],[\u001b[38;5;241m3\u001b[39m,\u001b[38;5;241m4\u001b[39m],[\u001b[38;5;241m5\u001b[39m,\u001b[38;5;241m6\u001b[39m],[\u001b[38;5;241m7\u001b[39m,\u001b[38;5;241m8\u001b[39m],[\u001b[38;5;241m9\u001b[39m,\u001b[38;5;241m10\u001b[39m]],[[\u001b[38;5;241m11\u001b[39m,\u001b[38;5;241m12\u001b[39m],[\u001b[38;5;241m13\u001b[39m,\u001b[38;5;241m14\u001b[39m],[\u001b[38;5;241m15\u001b[39m,\u001b[38;5;241m16\u001b[39m],[\u001b[38;5;241m17\u001b[39m,\u001b[38;5;241m18\u001b[39m],[\u001b[38;5;241m19\u001b[39m,\u001b[38;5;241m20\u001b[39m]],[[\u001b[38;5;241m21\u001b[39m,\u001b[38;5;241m22\u001b[39m],[\u001b[38;5;241m23\u001b[39m,\u001b[38;5;241m24\u001b[39m],[\u001b[38;5;241m25\u001b[39m,\u001b[38;5;241m26\u001b[39m],[\u001b[38;5;241m27\u001b[39m,\u001b[38;5;241m28\u001b[39m],[\u001b[38;5;241m29\u001b[39m,\u001b[38;5;241m30\u001b[39m]],[[\u001b[38;5;241m31\u001b[39m,\u001b[38;5;241m32\u001b[39m],[\u001b[38;5;241m33\u001b[39m,\u001b[38;5;241m34\u001b[39m],[\u001b[38;5;241m35\u001b[39m,\u001b[38;5;241m36\u001b[39m],[\u001b[38;5;241m37\u001b[39m,\u001b[38;5;241m38\u001b[39m],[\u001b[38;5;241m39\u001b[39m,\u001b[38;5;241m40\u001b[39m]]]\n",
      "\u001b[1;31mTypeError\u001b[0m: 'builtin_function_or_method' object is not subscriptable"
     ]
    }
   ],
   "source": [
    "onebytwelve = np.array[122,144,1]\n",
    "threebyfour = np.array[5,18,22,1],[7,4,9,35],[12,13,14,15],[0,88,64,3]\n",
    "twobyfivebyfour = np.array[[[1,2],[3,4],[5,6],[7,8],[9,10]],[[11,12],[13,14],[15,16],[17,18],[19,20]],[[21,22],[23,24],[25,26],[27,28],[29,30]],[[31,32],[33,34],[35,36],[37,38],[39,40]]]"
   ]
  },
  {
   "cell_type": "markdown",
   "id": "da221236-e19a-42da-8385-1ef09abcd504",
   "metadata": {},
   "source": [
    "### Accessing the values inside nd arrays\n",
    "Lets use arr3 as an example"
   ]
  },
  {
   "cell_type": "code",
   "execution_count": 49,
   "id": "f1353fe3-c38e-4eee-8ecb-410a021db043",
   "metadata": {},
   "outputs": [
    {
     "data": {
      "text/plain": [
       "array([[10, 20, 30, 40, 50, 60]])"
      ]
     },
     "execution_count": 49,
     "metadata": {},
     "output_type": "execute_result"
    }
   ],
   "source": [
    "# How can we access a value?\n",
    "# first call the array \n",
    "arr3"
   ]
  },
  {
   "cell_type": "markdown",
   "id": "fde7cf7c-e983-4c96-ae7c-1b06dd268275",
   "metadata": {},
   "source": [
    "# To call an entry, index the element in the list \n",
    "## [row( from top down), column (left to right)] remember indexes start at zero\n",
    "## Also more functions, please refer to the documentation"
   ]
  },
  {
   "cell_type": "code",
   "execution_count": 62,
   "id": "bcb13fe2-8315-4870-afb7-09e9c2c0bf20",
   "metadata": {},
   "outputs": [
    {
     "data": {
      "text/plain": [
       "np.float64(35.0)"
      ]
     },
     "execution_count": 62,
     "metadata": {},
     "output_type": "execute_result"
    }
   ],
   "source": [
    "arr3.mean()"
   ]
  },
  {
   "cell_type": "code",
   "execution_count": 63,
   "id": "08a0b881-0a38-4c7f-9a55-6dcbcb701d81",
   "metadata": {},
   "outputs": [
    {
     "data": {
      "text/plain": [
       "np.float64(17.07825127659933)"
      ]
     },
     "execution_count": 63,
     "metadata": {},
     "output_type": "execute_result"
    }
   ],
   "source": [
    "arr3.std()"
   ]
  },
  {
   "cell_type": "markdown",
   "id": "f9e6bd25-a621-49ea-8e80-9b65036f4a2d",
   "metadata": {},
   "source": [
    "# Iterating through ndarrays\n"
   ]
  },
  {
   "cell_type": "code",
   "execution_count": 64,
   "id": "60efb81f-2b2c-48da-b33b-816ac64ad186",
   "metadata": {},
   "outputs": [
    {
     "name": "stdout",
     "output_type": "stream",
     "text": [
      "10\n",
      "20\n",
      "30\n"
     ]
    }
   ],
   "source": [
    "# For a 1D array\n",
    "for x in arr1:\n",
    "    print(x)"
   ]
  },
  {
   "cell_type": "code",
   "execution_count": 65,
   "id": "5d41dc13-5833-4977-b160-6fdb53658e30",
   "metadata": {},
   "outputs": [
    {
     "name": "stdout",
     "output_type": "stream",
     "text": [
      "10\n",
      "20\n",
      "30\n",
      "40\n",
      "50\n",
      "60\n"
     ]
    }
   ],
   "source": [
    "# How about an n-dimensional array? Use nested loops\n",
    "for dim in arr3:\n",
    "    for num in dim:\n",
    "        print(num)"
   ]
  },
  {
   "cell_type": "code",
   "execution_count": 66,
   "id": "042e08b0-df40-4e17-bb96-713d4e5902fa",
   "metadata": {},
   "outputs": [
    {
     "name": "stdout",
     "output_type": "stream",
     "text": [
      "10\n",
      "20\n",
      "30\n",
      "40\n",
      "50\n",
      "60\n"
     ]
    }
   ],
   "source": [
    "# There is another way....nditer\n",
    "#This can be used in simple scenarios, but also very complex ones\n",
    "# It tends to be much cleaner for nested loops\n",
    "for x in np.nditer(arr3):\n",
    "    print(x)"
   ]
  },
  {
   "cell_type": "markdown",
   "id": "f1cc5129-4c36-4221-b93d-031da2e4ce0a",
   "metadata": {},
   "source": [
    "### Saving and loading in numpy"
   ]
  },
  {
   "cell_type": "code",
   "execution_count": 67,
   "id": "bd49df8e-4eb6-4749-8417-c85ae1546072",
   "metadata": {},
   "outputs": [],
   "source": [
    "# To save an array as a file\n",
    "np.save(\"new\",arr3)"
   ]
  },
  {
   "cell_type": "code",
   "execution_count": 68,
   "id": "55506219-772a-4534-90d4-782de03640ae",
   "metadata": {},
   "outputs": [
    {
     "data": {
      "text/plain": [
       "array([[10, 20, 30, 40, 50, 60]])"
      ]
     },
     "execution_count": 68,
     "metadata": {},
     "output_type": "execute_result"
    }
   ],
   "source": [
    "# Load the file\n",
    "np.load(\"new.npy\")"
   ]
  },
  {
   "cell_type": "code",
   "execution_count": 70,
   "id": "1e111a7b-2370-46e5-ab91-8cefdb807429",
   "metadata": {},
   "outputs": [],
   "source": [
    "# Saving as a txt\n",
    "np.savetxt(\"new.txt\", arr3, delimiter= \",\")"
   ]
  },
  {
   "cell_type": "code",
   "execution_count": 72,
   "id": "0cf28377-9698-4b5d-a488-fed3bd5192e4",
   "metadata": {},
   "outputs": [
    {
     "data": {
      "text/plain": [
       "array([10., 20., 30., 40., 50., 60.])"
      ]
     },
     "execution_count": 72,
     "metadata": {},
     "output_type": "execute_result"
    }
   ],
   "source": [
    "# Loading a txt\n",
    "np.loadtxt(\"new.txt\", delimiter= \",\")"
   ]
  },
  {
   "cell_type": "code",
   "execution_count": null,
   "id": "33f6a6ab-8d3b-4e13-b488-11ffb61df1b8",
   "metadata": {},
   "outputs": [],
   "source": []
  }
 ],
 "metadata": {
  "kernelspec": {
   "display_name": "Python 3 (ipykernel)",
   "language": "python",
   "name": "python3"
  },
  "language_info": {
   "codemirror_mode": {
    "name": "ipython",
    "version": 3
   },
   "file_extension": ".py",
   "mimetype": "text/x-python",
   "name": "python",
   "nbconvert_exporter": "python",
   "pygments_lexer": "ipython3",
   "version": "3.12.3"
  }
 },
 "nbformat": 4,
 "nbformat_minor": 5
}
