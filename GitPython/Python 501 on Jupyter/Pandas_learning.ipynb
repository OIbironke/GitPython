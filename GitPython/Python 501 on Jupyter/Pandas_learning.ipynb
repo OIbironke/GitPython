{
 "cells": [
  {
   "cell_type": "code",
   "execution_count": 1,
   "id": "3a90a147-acd7-4e79-9bed-5a9f8d4db806",
   "metadata": {},
   "outputs": [],
   "source": [
    "import pandas as pd\n",
    "import numpy as np"
   ]
  },
  {
   "cell_type": "markdown",
   "id": "4b367f3e-cd69-44ce-9c5d-99158217d343",
   "metadata": {},
   "source": [
    "# Introduction to Pandas\n",
    "\n",
    "Pandas is a high level data manipulation package built on top of Numpy\n"
   ]
  },
  {
   "cell_type": "markdown",
   "id": "080d0b44-0cc7-47f1-bf31-916219c57259",
   "metadata": {},
   "source": [
    "# Series\n",
    "A Series is a one dimensional array with labels (an index)"
   ]
  },
  {
   "cell_type": "code",
   "execution_count": 3,
   "id": "a6c154ea-1e90-48e4-b693-e066746e966e",
   "metadata": {},
   "outputs": [],
   "source": [
    "# You will use libraries a lot. As yo ucan see from the top of this doc, abbreviate your imports to save time\n",
    "# you can also import portions of a library to save processing time and prevent wrong syntax\n",
    "from pandas import Series, DataFrame"
   ]
  },
  {
   "cell_type": "code",
   "execution_count": 4,
   "id": "3365deab-d2c0-404f-abee-ebe5d79a09b1",
   "metadata": {},
   "outputs": [
    {
     "data": {
      "text/plain": [
       "0    10\n",
       "1    20\n",
       "2    30\n",
       "3    40\n",
       "4    50\n",
       "dtype: int64"
      ]
     },
     "execution_count": 4,
     "metadata": {},
     "output_type": "execute_result"
    }
   ],
   "source": [
    "# Creating a Series from a list\n",
    "x = pd.Series([10,20,30,40,50])\n",
    "x"
   ]
  },
  {
   "cell_type": "code",
   "execution_count": 5,
   "id": "0417c6d5-82fb-4090-b623-9c38d7e27ff5",
   "metadata": {},
   "outputs": [
    {
     "data": {
      "text/plain": [
       "RangeIndex(start=0, stop=5, step=1)"
      ]
     },
     "execution_count": 5,
     "metadata": {},
     "output_type": "execute_result"
    }
   ],
   "source": [
    "# We can access differnt components separately\n",
    "\n",
    "# Accessing the index\n",
    "x.index"
   ]
  },
  {
   "cell_type": "code",
   "execution_count": 6,
   "id": "0f09eac4-64f2-4d3d-b9c4-60ffeffb20ea",
   "metadata": {},
   "outputs": [
    {
     "data": {
      "text/plain": [
       "array([10, 20, 30, 40, 50])"
      ]
     },
     "execution_count": 6,
     "metadata": {},
     "output_type": "execute_result"
    }
   ],
   "source": [
    "# Accessing values\n",
    "x.values"
   ]
  },
  {
   "cell_type": "code",
   "execution_count": 7,
   "id": "bf45730c-79aa-41ff-8734-697f576869de",
   "metadata": {},
   "outputs": [
    {
     "data": {
      "text/plain": [
       "dtype('int64')"
      ]
     },
     "execution_count": 7,
     "metadata": {},
     "output_type": "execute_result"
    }
   ],
   "source": [
    "# Accessing the dtype\n",
    "# A series is an ndarray, thus homogenous and cannot store multiple dtypes\n",
    "x.dtype"
   ]
  },
  {
   "cell_type": "code",
   "execution_count": 9,
   "id": "c7f6f3c0-2a50-495a-bd62-6b59b668d714",
   "metadata": {},
   "outputs": [
    {
     "data": {
      "text/plain": [
       "Don      450\n",
       "Mike     650\n",
       "Edwin    870\n",
       "dtype: int64"
      ]
     },
     "execution_count": 9,
     "metadata": {},
     "output_type": "execute_result"
    }
   ],
   "source": [
    "# Creating a Series with an Index\n",
    "data = [450,650,870]\n",
    "Sales = Series(data, index=[\"Don\", \"Mike\", \"Edwin\"])\n",
    "Sales"
   ]
  },
  {
   "cell_type": "code",
   "execution_count": 10,
   "id": "caeea8bb-28db-4174-b7ee-8573448c2f67",
   "metadata": {},
   "outputs": [
    {
     "data": {
      "text/plain": [
       "pandas.core.series.Series"
      ]
     },
     "execution_count": 10,
     "metadata": {},
     "output_type": "execute_result"
    }
   ],
   "source": [
    "# Check type\n",
    "type(Sales)"
   ]
  },
  {
   "cell_type": "code",
   "execution_count": 12,
   "id": "2666c7b9-c8de-4c91-9896-82a88c5ed4b0",
   "metadata": {},
   "outputs": [
    {
     "data": {
      "text/plain": [
       "Index(['Don', 'Mike', 'Edwin'], dtype='object')"
      ]
     },
     "execution_count": 12,
     "metadata": {},
     "output_type": "execute_result"
    }
   ],
   "source": [
    "# if we check the index of Sales we will get the values rather than the range. which is a string\n",
    "Sales.index"
   ]
  },
  {
   "cell_type": "markdown",
   "id": "83fd58d8-6a49-4e67-ad91-9f635ed6bcdc",
   "metadata": {},
   "source": [
    "# Accessing Values"
   ]
  },
  {
   "cell_type": "code",
   "execution_count": 13,
   "id": "2ca64428-f726-4c42-b6ee-1d5f8be4640b",
   "metadata": {},
   "outputs": [
    {
     "data": {
      "text/plain": [
       "np.int64(450)"
      ]
     },
     "execution_count": 13,
     "metadata": {},
     "output_type": "execute_result"
    }
   ],
   "source": [
    "# You can access values using the index name\n",
    "Sales[\"Don\"]"
   ]
  },
  {
   "cell_type": "code",
   "execution_count": 44,
   "id": "39c62660-fe2a-4ec2-a660-8c2c4a506f32",
   "metadata": {},
   "outputs": [
    {
     "data": {
      "text/plain": [
       "np.int64(450)"
      ]
     },
     "execution_count": 44,
     "metadata": {},
     "output_type": "execute_result"
    }
   ],
   "source": [
    "# you can still use traditional indexing \n",
    "Sales.iloc[0] # You don't have to use .iloc"
   ]
  },
  {
   "cell_type": "code",
   "execution_count": 40,
   "id": "3f703541-3810-4a27-8ee0-3bdf7d4551ff",
   "metadata": {},
   "outputs": [
    {
     "data": {
      "text/plain": [
       "Sales person\n",
       "Don      False\n",
       "Mike      True\n",
       "Edwin     True\n",
       "Name: Total tv sales, dtype: bool"
      ]
     },
     "execution_count": 40,
     "metadata": {},
     "output_type": "execute_result"
    }
   ],
   "source": [
    "# You can filter based on conditions which will return bool values\n",
    "Sales>500"
   ]
  },
  {
   "cell_type": "code",
   "execution_count": 20,
   "id": "af2a9f18-115e-49d8-841d-355fd5f3f6fb",
   "metadata": {},
   "outputs": [
    {
     "data": {
      "text/plain": [
       "Mike     650\n",
       "Edwin    870\n",
       "dtype: int64"
      ]
     },
     "execution_count": 20,
     "metadata": {},
     "output_type": "execute_result"
    }
   ],
   "source": [
    "# If we want to see the values\n",
    "Sales[Sales>500]"
   ]
  },
  {
   "cell_type": "code",
   "execution_count": 21,
   "id": "98b13d19-34f4-481e-a2d4-881615594af1",
   "metadata": {},
   "outputs": [
    {
     "data": {
      "text/plain": [
       "True"
      ]
     },
     "execution_count": 21,
     "metadata": {},
     "output_type": "execute_result"
    }
   ],
   "source": [
    "# Checking the entries \n",
    "\"Don\" in Sales"
   ]
  },
  {
   "cell_type": "code",
   "execution_count": 43,
   "id": "8622d3c1-a529-4b94-95b9-2040a25bee41",
   "metadata": {},
   "outputs": [
    {
     "data": {
      "text/plain": [
       "False"
      ]
     },
     "execution_count": 43,
     "metadata": {},
     "output_type": "execute_result"
    }
   ],
   "source": [
    "# What about this?\n",
    "450 in Sales\n",
    "# 450 is not an index, it is a value. Which will return false"
   ]
  },
  {
   "cell_type": "markdown",
   "id": "872b8cf7-7a08-497b-8722-3a2477103bb4",
   "metadata": {},
   "source": [
    "# What about Dictionaries?\n"
   ]
  },
  {
   "cell_type": "code",
   "execution_count": 23,
   "id": "1000682d-4b9f-4d70-ba7f-59a53794b05c",
   "metadata": {},
   "outputs": [
    {
     "data": {
      "text/plain": [
       "{'Don': 450, 'Mike': 650, 'Edwin': 870}"
      ]
     },
     "execution_count": 23,
     "metadata": {},
     "output_type": "execute_result"
    }
   ],
   "source": [
    "# can convert a series to a dictionary\n",
    "Sales_dict = Sales.to_dict()\n",
    "Sales_dict"
   ]
  },
  {
   "cell_type": "code",
   "execution_count": 24,
   "id": "6ac41585-1e07-4db2-abd3-dc4b2b21482b",
   "metadata": {},
   "outputs": [
    {
     "data": {
      "text/plain": [
       "Don      450\n",
       "Mike     650\n",
       "Edwin    870\n",
       "dtype: int64"
      ]
     },
     "execution_count": 24,
     "metadata": {},
     "output_type": "execute_result"
    }
   ],
   "source": [
    "# You can do the reverse\n",
    "Sales_ser = Series(Sales_dict)\n",
    "Sales_ser"
   ]
  },
  {
   "cell_type": "code",
   "execution_count": 37,
   "id": "3888dfda-0b0e-4d15-a685-4de56329ccd7",
   "metadata": {},
   "outputs": [],
   "source": [
    "# We can create a new series from an existing series\n",
    "# If we specify names in the index that were NOT there already, NaN values will be assigned\n",
    "new_sales = Series(Sales, index=[\"Don\",\"Mike\",\"Sally\", \"Edwin\", \"Lucy\"])"
   ]
  },
  {
   "cell_type": "code",
   "execution_count": 38,
   "id": "cf0fa762-9988-485c-a598-cde1536f33c2",
   "metadata": {},
   "outputs": [
    {
     "data": {
      "text/plain": [
       "Don      False\n",
       "Mike     False\n",
       "Sally     True\n",
       "Edwin    False\n",
       "Lucy      True\n",
       "Name: Total tv sales, dtype: bool"
      ]
     },
     "execution_count": 38,
     "metadata": {},
     "output_type": "execute_result"
    }
   ],
   "source": [
    "# To check for null values, use Pandas\n",
    "pd.isnull(new_sales)"
   ]
  },
  {
   "cell_type": "markdown",
   "id": "0010c4ce-fec7-4a38-912b-55ff2e2f90ca",
   "metadata": {},
   "source": [
    "# Naming components in a Series"
   ]
  },
  {
   "cell_type": "code",
   "execution_count": 29,
   "id": "0a533303-df98-4289-8fca-3d0673776bb2",
   "metadata": {},
   "outputs": [
    {
     "data": {
      "text/plain": [
       "Sales person\n",
       "Don      450\n",
       "Mike     650\n",
       "Edwin    870\n",
       "dtype: int64"
      ]
     },
     "execution_count": 29,
     "metadata": {},
     "output_type": "execute_result"
    }
   ],
   "source": [
    "# Name an index\n",
    "Sales.index.name = \"Sales person\"\n",
    "Sales"
   ]
  },
  {
   "cell_type": "code",
   "execution_count": 30,
   "id": "d8e37d0a-449e-4a13-a0c3-142f77719a63",
   "metadata": {},
   "outputs": [
    {
     "data": {
      "text/plain": [
       "Sales person\n",
       "Don      450\n",
       "Mike     650\n",
       "Edwin    870\n",
       "Name: Total tv sales, dtype: int64"
      ]
     },
     "execution_count": 30,
     "metadata": {},
     "output_type": "execute_result"
    }
   ],
   "source": [
    "# Nameing a Seies\n",
    "Sales.name = \"Total tv sales\"\n",
    "Sales"
   ]
  },
  {
   "cell_type": "markdown",
   "id": "7a2a41aa-bb9d-4764-970b-993caa4a798f",
   "metadata": {},
   "source": [
    "# DataFrames\n",
    "DataFrames ar 2D, mutable, potentially hetergenous tabular data structures. This data structure contains two labelles axes (rows and columns)"
   ]
  },
  {
   "cell_type": "markdown",
   "id": "9d0e245b-fded-4b72-bce8-e5945c413237",
   "metadata": {},
   "source": [
    "## Creating a DataFrame (DF)"
   ]
  },
  {
   "cell_type": "code",
   "execution_count": 35,
   "id": "c964d4d4-a5be-4210-b24e-1ed69aa16dd4",
   "metadata": {},
   "outputs": [],
   "source": [
    "# Creating a DF from a list\n",
    "data = [[\"Adrian\", 20],[\"Bethany\", 23],[\"Chloe\",41]]\n",
    "\n",
    "# When we create a DF, we can specify what the column names are and what the data type is\n",
    "df = pd.DataFrame(data, columns=[\"Name\", \"Age\"])"
   ]
  },
  {
   "cell_type": "code",
   "execution_count": 36,
   "id": "d99301bf-068c-4734-984e-2e2af3b96f57",
   "metadata": {},
   "outputs": [
    {
     "data": {
      "text/html": [
       "<div>\n",
       "<style scoped>\n",
       "    .dataframe tbody tr th:only-of-type {\n",
       "        vertical-align: middle;\n",
       "    }\n",
       "\n",
       "    .dataframe tbody tr th {\n",
       "        vertical-align: top;\n",
       "    }\n",
       "\n",
       "    .dataframe thead th {\n",
       "        text-align: right;\n",
       "    }\n",
       "</style>\n",
       "<table border=\"1\" class=\"dataframe\">\n",
       "  <thead>\n",
       "    <tr style=\"text-align: right;\">\n",
       "      <th></th>\n",
       "      <th>Name</th>\n",
       "      <th>Age</th>\n",
       "    </tr>\n",
       "  </thead>\n",
       "  <tbody>\n",
       "    <tr>\n",
       "      <th>0</th>\n",
       "      <td>Adrian</td>\n",
       "      <td>20</td>\n",
       "    </tr>\n",
       "    <tr>\n",
       "      <th>1</th>\n",
       "      <td>Bethany</td>\n",
       "      <td>23</td>\n",
       "    </tr>\n",
       "    <tr>\n",
       "      <th>2</th>\n",
       "      <td>Chloe</td>\n",
       "      <td>41</td>\n",
       "    </tr>\n",
       "  </tbody>\n",
       "</table>\n",
       "</div>"
      ],
      "text/plain": [
       "      Name  Age\n",
       "0   Adrian   20\n",
       "1  Bethany   23\n",
       "2    Chloe   41"
      ]
     },
     "execution_count": 36,
     "metadata": {},
     "output_type": "execute_result"
    }
   ],
   "source": [
    "df"
   ]
  },
  {
   "cell_type": "markdown",
   "id": "dd45b4df-b88c-4aa2-aef3-fe6f0d442bb9",
   "metadata": {},
   "source": [
    "## DF from dict\n",
    "\n"
   ]
  },
  {
   "cell_type": "code",
   "execution_count": 57,
   "id": "766997d3-e7b8-410f-9fdc-c2f02feef1c2",
   "metadata": {},
   "outputs": [],
   "source": [
    "# You will need a dict. Remember a dict has key:value pairs that are ordered, mutable and homogeneous\n",
    "# create a dict \n",
    "members_dict = ({\n",
    "    'Name': ['Richard', 'Alan', 'Zoe', 'Hannah'],\n",
    "    'ID':   ['2501', '2502','2503','2504'],\n",
    "    'Location' : ['London','Newcastle', 'Stoke','Liverpool'],\n",
    "})\n"
   ]
  },
  {
   "cell_type": "code",
   "execution_count": 58,
   "id": "b6827b27-aa0d-47f5-9986-a3a3fdfc5de4",
   "metadata": {},
   "outputs": [
    {
     "name": "stdout",
     "output_type": "stream",
     "text": [
      "{'Name': ['Richard', 'Alan', 'Zoe', 'Hannah'], 'ID': ['2501', '2502', '2503', '2504'], 'Location': ['London', 'Newcastle', 'Stoke', 'Liverpool']}\n"
     ]
    }
   ],
   "source": [
    "# Test to see that the data is in the dictionary\n",
    "print(members_dict)"
   ]
  },
  {
   "cell_type": "code",
   "execution_count": 52,
   "id": "62e4f077-a511-45e5-ad06-ce89050bdee6",
   "metadata": {},
   "outputs": [
    {
     "name": "stdout",
     "output_type": "stream",
     "text": [
      "['2501', '2502', '2503', '2504']\n"
     ]
    }
   ],
   "source": [
    "# We can also check certain parameters\n",
    "print(members_dict.get('ID'))"
   ]
  },
  {
   "cell_type": "code",
   "execution_count": 54,
   "id": "260e90e5-4a3d-4c31-9174-bf070db21897",
   "metadata": {},
   "outputs": [
    {
     "name": "stdout",
     "output_type": "stream",
     "text": [
      "['Name', 'ID', 'Location']\n"
     ]
    }
   ],
   "source": [
    "# list of keys\n",
    "print(list(members_dict.keys()))"
   ]
  },
  {
   "cell_type": "code",
   "execution_count": 55,
   "id": "9c45a1ca-2457-46a0-bf58-bbe8cd245292",
   "metadata": {},
   "outputs": [
    {
     "name": "stdout",
     "output_type": "stream",
     "text": [
      "[('Name', ['Richard', 'Alan', 'Zoe', 'Hannah']), ('ID', ['2501', '2502', '2503', '2504']), ('Location', ['London', 'Newcastle', 'Stoke', 'Liverpool'])]\n"
     ]
    }
   ],
   "source": [
    "# list of tuples showing all key:value pairs\n",
    "print(list(members_dict.items()))"
   ]
  },
  {
   "cell_type": "code",
   "execution_count": 61,
   "id": "8313ed63-c9e1-40fa-bb58-b97bff785ae2",
   "metadata": {},
   "outputs": [],
   "source": [
    "# Making a df is done in one line. notice the (from_dict) syntax\n",
    "df_members = pd.DataFrame.from_dict(members_dict)"
   ]
  },
  {
   "cell_type": "code",
   "execution_count": 62,
   "id": "800026ec-1d22-445d-b06f-7ba9421bf01a",
   "metadata": {},
   "outputs": [
    {
     "data": {
      "text/html": [
       "<div>\n",
       "<style scoped>\n",
       "    .dataframe tbody tr th:only-of-type {\n",
       "        vertical-align: middle;\n",
       "    }\n",
       "\n",
       "    .dataframe tbody tr th {\n",
       "        vertical-align: top;\n",
       "    }\n",
       "\n",
       "    .dataframe thead th {\n",
       "        text-align: right;\n",
       "    }\n",
       "</style>\n",
       "<table border=\"1\" class=\"dataframe\">\n",
       "  <thead>\n",
       "    <tr style=\"text-align: right;\">\n",
       "      <th></th>\n",
       "      <th>Name</th>\n",
       "      <th>ID</th>\n",
       "      <th>Location</th>\n",
       "    </tr>\n",
       "  </thead>\n",
       "  <tbody>\n",
       "    <tr>\n",
       "      <th>0</th>\n",
       "      <td>Richard</td>\n",
       "      <td>2501</td>\n",
       "      <td>London</td>\n",
       "    </tr>\n",
       "    <tr>\n",
       "      <th>1</th>\n",
       "      <td>Alan</td>\n",
       "      <td>2502</td>\n",
       "      <td>Newcastle</td>\n",
       "    </tr>\n",
       "    <tr>\n",
       "      <th>2</th>\n",
       "      <td>Zoe</td>\n",
       "      <td>2503</td>\n",
       "      <td>Stoke</td>\n",
       "    </tr>\n",
       "    <tr>\n",
       "      <th>3</th>\n",
       "      <td>Hannah</td>\n",
       "      <td>2504</td>\n",
       "      <td>Liverpool</td>\n",
       "    </tr>\n",
       "  </tbody>\n",
       "</table>\n",
       "</div>"
      ],
      "text/plain": [
       "      Name    ID   Location\n",
       "0  Richard  2501     London\n",
       "1     Alan  2502  Newcastle\n",
       "2      Zoe  2503      Stoke\n",
       "3   Hannah  2504  Liverpool"
      ]
     },
     "execution_count": 62,
     "metadata": {},
     "output_type": "execute_result"
    }
   ],
   "source": [
    "df_members"
   ]
  },
  {
   "cell_type": "markdown",
   "id": "a1e1d65b-8e97-4a90-96ab-220d81591930",
   "metadata": {},
   "source": [
    "## Adding custom indexes\n"
   ]
  },
  {
   "cell_type": "code",
   "execution_count": 66,
   "id": "74a836d3-5753-4437-a618-38d7dd160fbd",
   "metadata": {},
   "outputs": [
    {
     "data": {
      "text/html": [
       "<div>\n",
       "<style scoped>\n",
       "    .dataframe tbody tr th:only-of-type {\n",
       "        vertical-align: middle;\n",
       "    }\n",
       "\n",
       "    .dataframe tbody tr th {\n",
       "        vertical-align: top;\n",
       "    }\n",
       "\n",
       "    .dataframe thead th {\n",
       "        text-align: right;\n",
       "    }\n",
       "</style>\n",
       "<table border=\"1\" class=\"dataframe\">\n",
       "  <thead>\n",
       "    <tr style=\"text-align: right;\">\n",
       "      <th></th>\n",
       "      <th>Name</th>\n",
       "      <th>Location</th>\n",
       "    </tr>\n",
       "    <tr>\n",
       "      <th>ID</th>\n",
       "      <th></th>\n",
       "      <th></th>\n",
       "    </tr>\n",
       "  </thead>\n",
       "  <tbody>\n",
       "    <tr>\n",
       "      <th>2501</th>\n",
       "      <td>Richard</td>\n",
       "      <td>London</td>\n",
       "    </tr>\n",
       "    <tr>\n",
       "      <th>2502</th>\n",
       "      <td>Alan</td>\n",
       "      <td>Newcastle</td>\n",
       "    </tr>\n",
       "    <tr>\n",
       "      <th>2503</th>\n",
       "      <td>Zoe</td>\n",
       "      <td>Stoke</td>\n",
       "    </tr>\n",
       "    <tr>\n",
       "      <th>2504</th>\n",
       "      <td>Hannah</td>\n",
       "      <td>Liverpool</td>\n",
       "    </tr>\n",
       "  </tbody>\n",
       "</table>\n",
       "</div>"
      ],
      "text/plain": [
       "         Name   Location\n",
       "ID                      \n",
       "2501  Richard     London\n",
       "2502     Alan  Newcastle\n",
       "2503      Zoe      Stoke\n",
       "2504   Hannah  Liverpool"
      ]
     },
     "execution_count": 66,
     "metadata": {},
     "output_type": "execute_result"
    }
   ],
   "source": [
    "# changing the index requires the 'index' command\n",
    "# If you want to change the index to be characters instead of numbers, you can use any of the following\n",
    "df_members.set_index(\"ID\", inplace = False)\n",
    "# The argument passed through will be the column name which will become the index"
   ]
  },
  {
   "cell_type": "code",
   "execution_count": 67,
   "id": "3f369f4e-84b5-4188-95ba-72aaf680b402",
   "metadata": {},
   "outputs": [
    {
     "data": {
      "text/html": [
       "<div>\n",
       "<style scoped>\n",
       "    .dataframe tbody tr th:only-of-type {\n",
       "        vertical-align: middle;\n",
       "    }\n",
       "\n",
       "    .dataframe tbody tr th {\n",
       "        vertical-align: top;\n",
       "    }\n",
       "\n",
       "    .dataframe thead th {\n",
       "        text-align: right;\n",
       "    }\n",
       "</style>\n",
       "<table border=\"1\" class=\"dataframe\">\n",
       "  <thead>\n",
       "    <tr style=\"text-align: right;\">\n",
       "      <th></th>\n",
       "      <th>Name</th>\n",
       "      <th>ID</th>\n",
       "      <th>Location</th>\n",
       "    </tr>\n",
       "  </thead>\n",
       "  <tbody>\n",
       "    <tr>\n",
       "      <th>0</th>\n",
       "      <td>Richard</td>\n",
       "      <td>2501</td>\n",
       "      <td>London</td>\n",
       "    </tr>\n",
       "    <tr>\n",
       "      <th>1</th>\n",
       "      <td>Alan</td>\n",
       "      <td>2502</td>\n",
       "      <td>Newcastle</td>\n",
       "    </tr>\n",
       "    <tr>\n",
       "      <th>2</th>\n",
       "      <td>Zoe</td>\n",
       "      <td>2503</td>\n",
       "      <td>Stoke</td>\n",
       "    </tr>\n",
       "    <tr>\n",
       "      <th>3</th>\n",
       "      <td>Hannah</td>\n",
       "      <td>2504</td>\n",
       "      <td>Liverpool</td>\n",
       "    </tr>\n",
       "  </tbody>\n",
       "</table>\n",
       "</div>"
      ],
      "text/plain": [
       "      Name    ID   Location\n",
       "0  Richard  2501     London\n",
       "1     Alan  2502  Newcastle\n",
       "2      Zoe  2503      Stoke\n",
       "3   Hannah  2504  Liverpool"
      ]
     },
     "execution_count": 67,
     "metadata": {},
     "output_type": "execute_result"
    }
   ],
   "source": [
    "# becauses the inplace option is set to false the change is only reflected in the previous call. If \"True\" then it is permanent\n",
    "df_members "
   ]
  },
  {
   "cell_type": "markdown",
   "id": "edc29109-2ce3-4cf8-b2bc-cb1ffac6ed3e",
   "metadata": {},
   "source": [
    "## Create DF from a list of dicts"
   ]
  },
  {
   "cell_type": "code",
   "execution_count": 68,
   "id": "655d2001-fab3-463f-96f9-d4f722b73ff6",
   "metadata": {},
   "outputs": [
    {
     "data": {
      "text/plain": [
       "[{'A': 'How', 'B': 'to', 'C': 'create'}, {'A': '3', 'B': '2', 'C': '5'}]"
      ]
     },
     "execution_count": 68,
     "metadata": {},
     "output_type": "execute_result"
    }
   ],
   "source": [
    "# Lets make a sample df \n",
    "list_of_dicts = [{'A': 'How', 'B':'to','C': 'create'},\n",
    "                 {'A':'3','B': '2','C':'5'}]\n",
    "list_of_dicts"
   ]
  },
  {
   "cell_type": "code",
   "execution_count": 70,
   "id": "bb3e1aef-a33f-48cd-ac5a-482d59f9b35c",
   "metadata": {},
   "outputs": [
    {
     "name": "stdout",
     "output_type": "stream",
     "text": [
      "     A   B       C\n",
      "0  How  to  create\n",
      "1    3   2       5\n"
     ]
    }
   ],
   "source": [
    "#use the syntax \"from_records\" or \"from_dict\"\n",
    "df_LOD =pd.DataFrame.from_records(list_of_dicts)\n",
    "print(df_LOD)"
   ]
  },
  {
   "cell_type": "markdown",
   "id": "7a4b3bbc-664d-4267-9661-727f99c9f7d6",
   "metadata": {},
   "source": [
    " # Create DF from a Series\n",
    " Using the syntax like previous conversions, you can simply use \n",
    " pd.Series(name_of_series) to extract a df from a series\n",
    " To add a series to a df you will use pd.concat(name_of_series) \n",
    " "
   ]
  },
  {
   "cell_type": "code",
   "execution_count": null,
   "id": "4557daa1-f554-4e70-83ed-7034c47f0737",
   "metadata": {},
   "outputs": [],
   "source": []
  },
  {
   "cell_type": "code",
   "execution_count": null,
   "id": "c9afdc10-1cbb-4044-bd7f-e6cc8baa90ff",
   "metadata": {},
   "outputs": [],
   "source": []
  }
 ],
 "metadata": {
  "kernelspec": {
   "display_name": "Python 3 (ipykernel)",
   "language": "python",
   "name": "python3"
  },
  "language_info": {
   "codemirror_mode": {
    "name": "ipython",
    "version": 3
   },
   "file_extension": ".py",
   "mimetype": "text/x-python",
   "name": "python",
   "nbconvert_exporter": "python",
   "pygments_lexer": "ipython3",
   "version": "3.12.3"
  }
 },
 "nbformat": 4,
 "nbformat_minor": 5
}
